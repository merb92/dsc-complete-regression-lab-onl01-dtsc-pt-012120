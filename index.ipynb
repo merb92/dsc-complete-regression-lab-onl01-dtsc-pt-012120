{
 "cells": [
  {
   "cell_type": "markdown",
   "metadata": {},
   "source": [
    "# Complete Regression - Lab\n",
    "\n",
    "## Introduction\n",
    "By now, you have created all the necessary functions to calculate the slope, intercept, best-fit line, prediction, and visualizations. In this lab you will put them all together to run a regression experiment and calculate the model loss. \n",
    "\n",
    "## Objectives\n",
    "\n",
    "You will be able to:\n",
    "\n",
    "* Perform a linear regression using self-constructed functions\n",
    "* Calculate the coefficient of determination using self-constructed functions\n",
    "* Use the coefficient of determination to determine model performance\n",
    "\n",
    "## The formulas\n",
    "\n",
    "**Slope**: \n",
    "$\\hat m = \\dfrac{\\overline{x}*\\overline{y}-\\overline{xy}}{(\\overline{x})^2-\\overline{x^2}}$\n",
    "\n",
    "\n",
    "**Intercept**: $ \\hat c = \\bar{y} - \\hat m\\bar{x}$\n",
    "\n",
    "**Prediction**: $\\hat{y} = \\hat mx + \\hat c$\n",
    "\n",
    "**R-Squared**: \n",
    "$ R^2 = 1- \\dfrac{SS_{RES}}{SS_{TOT}} = 1 - \\dfrac{\\sum_i(y_i - \\hat y_i)^2}{\\sum_i(y_i - \\overline y_i)^2} $\n",
    "\n",
    "\n",
    "Use the Python functions created earlier to implement these formulas to run a regression analysis using x and y as input variables. "
   ]
  },
  {
   "cell_type": "code",
   "execution_count": 3,
   "metadata": {
    "ExecuteTime": {
     "end_time": "2020-04-09T17:21:09.444421Z",
     "start_time": "2020-04-09T17:21:09.439368Z"
    }
   },
   "outputs": [],
   "source": [
    "# Combine all the functions created so far to run a complete regression experiment. \n",
    "# Produce an output similar to the one shown below. \n",
    "\n",
    "X = np.array([1, 2, 3, 4, 5, 6, 7, 8, 9, 10], dtype=np.float64)\n",
    "Y = np.array([7, 7, 8, 9, 9, 10, 10, 11, 11, 12], dtype=np.float64)\n"
   ]
  },
  {
   "cell_type": "code",
   "execution_count": 1,
   "metadata": {
    "ExecuteTime": {
     "end_time": "2020-04-09T17:17:05.686124Z",
     "start_time": "2020-04-09T17:17:05.674778Z"
    }
   },
   "outputs": [],
   "source": [
    "import numpy as np\n",
    "\n",
    "def sq_err(y_real, y_predicted):\n",
    "    \"\"\"\n",
    "    input\n",
    "    y_real : true y values\n",
    "    y_predicted : regression line\n",
    "    \n",
    "    return\n",
    "    squared error between regression and true line (ss_tot)\n",
    "    \"\"\"\n",
    "    return np.sum((y_real - y_predicted)**2)\n",
    "\n",
    "def r_squared(y_real, y_predicted):\n",
    "    \"\"\"\n",
    "    input\n",
    "    y_real: real values\n",
    "    y_predicted: regression values\n",
    "    \n",
    "    return\n",
    "    r_squared value\n",
    "    \"\"\"\n",
    "    mean_y_real = y_real.mean()\n",
    "    ssr = sq_err(y_real, y_predicted)\n",
    "    baseline_y = np.full(len(y_real), mean_y_real)\n",
    "    sst = sq_err(y_real, baseline_y)\n",
    "    \n",
    "    r_squared = 1 - (ssr / sst)\n",
    "    \n",
    "    return r_squared\n",
    "\n",
    "def calc_slope(xs,ys):\n",
    "    \"\"\" return the slope of the line described by xs and ys\"\"\"\n",
    "    \n",
    "    return (xs.mean() * ys.mean() - (xs * ys).mean()) / (xs.mean()**2 - (xs**2).mean())\n",
    "\n",
    "def best_fit(xs,ys):\n",
    "    \"\"\"return the slope and intercept for the line described by xs and ys\"\"\"\n",
    "    \n",
    "    m = calc_slope(xs, ys)\n",
    "    c = ys.mean() - m * xs.mean()\n",
    "    \n",
    "    return m, c\n",
    "\n",
    "def reg_line (m, c, xs):\n",
    "    \"\"\"\n",
    "    return the y values for a regression line\n",
    "    \n",
    "    input\n",
    "    m -- slope\n",
    "    c -- y intercept\n",
    "    xs -- x values\n",
    "    \"\"\"\n",
    "    \n",
    "    ys = xs * m + c\n",
    "    \n",
    "    return ys"
   ]
  },
  {
   "cell_type": "code",
   "execution_count": 4,
   "metadata": {
    "ExecuteTime": {
     "end_time": "2020-04-09T17:21:13.430262Z",
     "start_time": "2020-04-09T17:21:13.421728Z"
    }
   },
   "outputs": [
    {
     "name": "stdout",
     "output_type": "stream",
     "text": [
      "Basic Regression Diagnostics\n",
      "----------------------------\n",
      "Slope: 0.56\n",
      "Y-Intercept: 6.33\n",
      "R-Squared: 0.97\n",
      "----------------------------\n",
      "Model: Y = 0.56 * X + 6.33\n"
     ]
    }
   ],
   "source": [
    "m, c = best_fit(X, Y)\n",
    "regression_line = reg_line(m, c, X)\n",
    "r_sq = r_squared(Y, regression_line)\n",
    "print('Basic Regression Diagnostics')\n",
    "print('----------------------------')\n",
    "print(f'Slope: {round(m, 2)}')\n",
    "print(f'Y-Intercept: {round(c, 2)}')\n",
    "print(f'R-Squared: {round(r_sq, 2)}')\n",
    "print('----------------------------')\n",
    "print(f'Model: Y = {round(m, 2)} * X + {round(c, 2)}')"
   ]
  },
  {
   "cell_type": "code",
   "execution_count": 7,
   "metadata": {
    "ExecuteTime": {
     "end_time": "2020-04-09T17:23:44.674099Z",
     "start_time": "2020-04-09T17:23:44.668180Z"
    }
   },
   "outputs": [],
   "source": [
    "import matplotlib.pyplot as plt\n",
    "%matplotlib inline\n",
    "from matplotlib import style\n",
    "style.use('ggplot')"
   ]
  },
  {
   "cell_type": "code",
   "execution_count": 8,
   "metadata": {
    "ExecuteTime": {
     "end_time": "2020-04-09T17:23:45.409304Z",
     "start_time": "2020-04-09T17:23:45.196166Z"
    }
   },
   "outputs": [
    {
     "data": {
      "image/png": "[encoded data removed]",
      "text/plain": [
       "<Figure size 432x288 with 1 Axes>"
      ]
     },
     "metadata": {},
     "output_type": "display_data"
    }
   ],
   "source": [
    "plt.scatter(X, Y, c='blue', label='data')\n",
    "plt.plot(X, regression_line, c='red', label='regression line')\n",
    "plt.legend()\n",
    "plt.show()"
   ]
  },
  {
   "cell_type": "code",
   "execution_count": 70,
   "metadata": {},
   "outputs": [
    {
     "name": "stdout",
     "output_type": "stream",
     "text": [
      "Basic Regression Diagnostics\n",
      "----------------------------\n",
      "Slope: 0.56\n",
      "Y-Intercept: 6.33\n",
      "R-Squared: 0.97\n",
      "----------------------------\n",
      "Model: Y = 0.56 * X + 6.33\n"
     ]
    },
    {
     "data": {
      "image/png": "[encoded data removed]",
      "text/plain": [
       "<matplotlib.figure.Figure at 0x1a180b14a8>"
      ]
     },
     "metadata": {},
     "output_type": "display_data"
    }
   ],
   "source": [
    "# Basic Regression Diagnostics\n",
    "# ----------------------------\n",
    "# Slope: 0.56\n",
    "# Y-Intercept: 6.33\n",
    "# R-Squared: 0.97\n",
    "# ----------------------------\n",
    "# Model: Y = 0.56 * X + 6.33"
   ]
  },
  {
   "cell_type": "markdown",
   "metadata": {},
   "source": [
    "## Make Predictions\n",
    "\n",
    "Predict and plot the value of y using regression line above for a new value of $x = 4.5$."
   ]
  },
  {
   "cell_type": "code",
   "execution_count": 66,
   "metadata": {},
   "outputs": [
    {
     "data": {
      "image/png": "[encoded data removed]",
      "text/plain": [
       "<matplotlib.figure.Figure at 0x1a17f22b70>"
      ]
     },
     "metadata": {},
     "output_type": "display_data"
    }
   ],
   "source": [
    "# Make prediction for x = 4.5 and visualize on the scatter plot"
   ]
  },
  {
   "cell_type": "code",
   "execution_count": 9,
   "metadata": {
    "ExecuteTime": {
     "end_time": "2020-04-09T17:26:12.551513Z",
     "start_time": "2020-04-09T17:26:12.325499Z"
    }
   },
   "outputs": [
    {
     "data": {
      "image/png": "[encoded data removed]",
      "text/plain": [
       "<Figure size 432x288 with 1 Axes>"
      ]
     },
     "metadata": {},
     "output_type": "display_data"
    }
   ],
   "source": [
    "plt.scatter(X, Y, c='blue', label='data')\n",
    "plt.plot(X, regression_line, c='red', label='regression line')\n",
    "plt.plot(4.5, reg_line(m, c, 4.5),marker='o', color='black', label='Predicted Value' )\n",
    "plt.legend()\n",
    "plt.show()"
   ]
  },
  {
   "cell_type": "code",
   "execution_count": 10,
   "metadata": {
    "ExecuteTime": {
     "end_time": "2020-04-09T17:27:28.920728Z",
     "start_time": "2020-04-09T17:27:19.815426Z"
    }
   },
   "outputs": [
    {
     "data": {
      "text/html": [
       "<div>\n",
       "<style scoped>\n",
       "    .dataframe tbody tr th:only-of-type {\n",
       "        vertical-align: middle;\n",
       "    }\n",
       "\n",
       "    .dataframe tbody tr th {\n",
       "        vertical-align: top;\n",
       "    }\n",
       "\n",
       "    .dataframe thead th {\n",
       "        text-align: right;\n",
       "    }\n",
       "</style>\n",
       "<table border=\"1\" class=\"dataframe\">\n",
       "  <thead>\n",
       "    <tr style=\"text-align: right;\">\n",
       "      <th></th>\n",
       "      <th>height</th>\n",
       "      <th>weight</th>\n",
       "    </tr>\n",
       "  </thead>\n",
       "  <tbody>\n",
       "    <tr>\n",
       "      <td>0</td>\n",
       "      <td>68</td>\n",
       "      <td>165</td>\n",
       "    </tr>\n",
       "    <tr>\n",
       "      <td>1</td>\n",
       "      <td>71</td>\n",
       "      <td>201</td>\n",
       "    </tr>\n",
       "    <tr>\n",
       "      <td>2</td>\n",
       "      <td>61</td>\n",
       "      <td>140</td>\n",
       "    </tr>\n",
       "    <tr>\n",
       "      <td>3</td>\n",
       "      <td>69</td>\n",
       "      <td>170</td>\n",
       "    </tr>\n",
       "    <tr>\n",
       "      <td>4</td>\n",
       "      <td>71</td>\n",
       "      <td>192</td>\n",
       "    </tr>\n",
       "  </tbody>\n",
       "</table>\n",
       "</div>"
      ],
      "text/plain": [
       "   height  weight\n",
       "0      68     165\n",
       "1      71     201\n",
       "2      61     140\n",
       "3      69     170\n",
       "4      71     192"
      ]
     },
     "execution_count": 10,
     "metadata": {},
     "output_type": "execute_result"
    }
   ],
   "source": [
    "import pandas as pd\n",
    "data = pd.read_csv('heightweight.csv')\n",
    "data.head()"
   ]
  },
  {
   "cell_type": "code",
   "execution_count": 12,
   "metadata": {
    "ExecuteTime": {
     "end_time": "2020-04-09T17:28:58.738687Z",
     "start_time": "2020-04-09T17:28:58.726185Z"
    }
   },
   "outputs": [
    {
     "name": "stdout",
     "output_type": "stream",
     "text": [
      "Basic Regression Diagnostics\n",
      "----------------------------\n",
      "Slope: 5.54\n",
      "Y-Intercept: -204.48\n",
      "R-Squared: 0.96\n",
      "----------------------------\n",
      "Model: Y = 5.54 * X + -204.48\n"
     ]
    }
   ],
   "source": [
    "m, c = best_fit(data.height, data.weight)\n",
    "regression_line = reg_line(m, c, data.height)\n",
    "r_sq = r_squared(data.weight, regression_line)\n",
    "print('Basic Regression Diagnostics')\n",
    "print('----------------------------')\n",
    "print(f'Slope: {round(m, 2)}')\n",
    "print(f'Y-Intercept: {round(c, 2)}')\n",
    "print(f'R-Squared: {round(r_sq, 2)}')\n",
    "print('----------------------------')\n",
    "print(f'Model: Y = {round(m, 2)} * X + {round(c, 2)}')"
   ]
  },
  {
   "cell_type": "code",
   "execution_count": 13,
   "metadata": {
    "ExecuteTime": {
     "end_time": "2020-04-09T17:30:36.202858Z",
     "start_time": "2020-04-09T17:30:35.926149Z"
    }
   },
   "outputs": [
    {
     "data": {
      "image/png": "[encoded data removed]",
      "text/plain": [
       "<Figure size 432x288 with 1 Axes>"
      ]
     },
     "metadata": {},
     "output_type": "display_data"
    }
   ],
   "source": [
    "plt.scatter(data.height, data.weight, c='blue', label='data')\n",
    "plt.plot(data.height, regression_line, c='red', label='regression line')\n",
    "plt.xlabel('Height')\n",
    "plt.ylabel('Weight')\n",
    "plt.title('Linear Regression for Height vs. Weight')\n",
    "plt.legend()\n",
    "plt.show()"
   ]
  },
  {
   "cell_type": "markdown",
   "metadata": {},
   "source": [
    "## Level up - Optional \n",
    "Load the \"`heightweight.csv`\" dataset. Use the height as an independent and weight as a dependent variable and draw a regression line to data using your code above. Calculate your R-Squared value for the model and try to predict new values of y. \n",
    "\n",
    "## Summary\n",
    "\n",
    "In this lab, we ran a complete simple regression analysis experiment using functions created so far. Next up, you'll learn how you can use Python's built-in modules to perform similar analyses with a much higher level of sophistication. "
   ]
  }
 ],
 "metadata": {
  "kernelspec": {
   "display_name": "learn-env",
   "language": "python",
   "name": "learn-env"
  },
  "language_info": {
   "codemirror_mode": {
    "name": "ipython",
    "version": 3
   },
   "file_extension": ".py",
   "mimetype": "text/x-python",
   "name": "python",
   "nbconvert_exporter": "python",
   "pygments_lexer": "ipython3",
   "version": "3.6.9"
  },
  "toc": {
   "base_numbering": 1,
   "nav_menu": {},
   "number_sections": true,
   "sideBar": true,
   "skip_h1_title": false,
   "title_cell": "Table of Contents",
   "title_sidebar": "Contents",
   "toc_cell": false,
   "toc_position": {},
   "toc_section_display": true,
   "toc_window_display": false
  },
  "varInspector": {
   "cols": {
    "lenName": 16,
    "lenType": 16,
    "lenVar": 40
   },
   "kernels_config": {
    "python": {
     "delete_cmd_postfix": "",
     "delete_cmd_prefix": "del ",
     "library": "var_list.py",
     "varRefreshCmd": "print(var_dic_list())"
    },
    "r": {
     "delete_cmd_postfix": ") ",
     "delete_cmd_prefix": "rm(",
     "library": "var_list.r",
     "varRefreshCmd": "cat(var_dic_list()) "
    }
   },
   "types_to_exclude": [
    "module",
    "function",
    "builtin_function_or_method",
    "instance",
    "_Feature"
   ],
   "window_display": false
  }
 },
 "nbformat": 4,
 "nbformat_minor": 2
}
